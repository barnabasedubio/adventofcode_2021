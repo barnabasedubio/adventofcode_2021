{
 "cells": [
  {
   "cell_type": "code",
   "execution_count": 4,
   "metadata": {},
   "outputs": [],
   "source": [
    "from aocd.models import Puzzle\n",
    "from pprint import pprint"
   ]
  },
  {
   "cell_type": "code",
   "execution_count": 5,
   "metadata": {},
   "outputs": [],
   "source": [
    "puzzle_input = Puzzle(2021, 5).input_data\n",
    "directions = []\n",
    "for coords in puzzle_input.split(\"\\n\"):\n",
    "\n",
    "\tsource_coords = coords.split(\" -> \")[0]\n",
    "\tdest_coords = coords.split(\" -> \")[1]\n",
    "\n",
    "\tsource_coords_x = int(source_coords.split(\",\")[0])\n",
    "\tsource_coords_y = int(source_coords.split(\",\")[1])\n",
    "\n",
    "\tdest_coords_x = int(dest_coords.split(\",\")[0])\n",
    "\tdest_coords_y = int(dest_coords.split(\",\")[1])\n",
    "\n",
    "\tdirections.append([(source_coords_x, source_coords_y), (dest_coords_x, dest_coords_y)])\n",
    "\n",
    "test_directions = [\n",
    "\t[(0, 9), (5, 9)],\n",
    "\t[(8, 0), (0, 8)],\n",
    "\t[(9, 4), (3, 4)],\n",
    "\t[(2, 2), (2, 1)],\n",
    "\t[(7, 0), (7, 4)],\n",
    "\t[(6, 4), (2, 0)],\n",
    "\t[(0, 9), (2, 9)],\n",
    "\t[(3, 4), (1, 4)],\n",
    "\t[(0, 0), (8, 8)],\n",
    "\t[(5, 5), (8, 2)]\n",
    "]"
   ]
  },
  {
   "cell_type": "code",
   "execution_count": 96,
   "metadata": {},
   "outputs": [],
   "source": [
    "def mark_fissures(input_directions, only_lines, threshold):\n",
    "\t# determine the largest number of the input directions. This will be the field size.\n",
    "\tlargest_number = get_largest_number(input_directions)\n",
    "\tfield = [[0 for _ in range(largest_number+1)] for _ in range(largest_number+1)]\n",
    "\n",
    "\tif only_lines:\n",
    "\t\tinput_directions_copy = input_directions[:]\n",
    "\t\tinput_directions = [direction for direction in input_directions_copy if (direction[0][0] == direction[1][0] or direction[0][1] == direction[1][1])]\n",
    "\t\n",
    "\tfor direction in input_directions:\n",
    "\t\tdelta_horizontal = direction[1][0] - direction[0][0]\n",
    "\t\tdelta_vertical = direction[1][1] - direction[0][1]\n",
    "\t\tcurrent_position = direction[0]\n",
    "\t\ttarget_position = direction[1]\n",
    "\t\tfield[current_position[1]][current_position[0]] += 1\n",
    "\t\twhile current_position != target_position:\n",
    "\t\t\tstep_horizontal = 0 if not delta_horizontal else int(delta_horizontal / abs(delta_horizontal))\n",
    "\t\t\tstep_vertical = 0 if not delta_vertical else int(delta_vertical / abs(delta_vertical))\n",
    "\t\t\tnew_position = (current_position[0] + step_horizontal, current_position[1] + step_vertical)\n",
    "\t\t\tfield[new_position[1]][new_position[0]] += 1\n",
    "\t\t\tcurrent_position = new_position\n",
    "\n",
    "\t# return number of points higher than threshold\n",
    "\tcount = 0\n",
    "\tfor row in range(len(field)):\n",
    "\t\tfor col in range(len(field)):\n",
    "\t\t\tif field[row][col] >= threshold:\n",
    "\t\t\t\tcount += 1\n",
    "\t\n",
    "\treturn count\n",
    "\t"
   ]
  },
  {
   "cell_type": "code",
   "execution_count": 98,
   "metadata": {},
   "outputs": [
    {
     "data": {
      "text/plain": [
       "7436"
      ]
     },
     "execution_count": 98,
     "metadata": {},
     "output_type": "execute_result"
    }
   ],
   "source": [
    "# part 1\n",
    "mark_fissures(directions, True, 2)"
   ]
  },
  {
   "cell_type": "code",
   "execution_count": 100,
   "metadata": {},
   "outputs": [
    {
     "data": {
      "text/plain": [
       "21104"
      ]
     },
     "execution_count": 100,
     "metadata": {},
     "output_type": "execute_result"
    }
   ],
   "source": [
    "# part 2\n",
    "mark_fissures(directions, False, 2)"
   ]
  },
  {
   "cell_type": "code",
   "execution_count": 22,
   "metadata": {},
   "outputs": [],
   "source": [
    "def get_largest_number(input_directions):\n",
    "\tcurrent_largest_number = -1\n",
    "\tfor direction in input_directions:\n",
    "\t\tdirection_numbers = [direction[0][0], direction[0][1], direction[1][0], direction[1][1]]\n",
    "\t\tcurrent_largest_number = max(direction_numbers) if max(direction_numbers) > current_largest_number else current_largest_number\n",
    "\treturn current_largest_number\n"
   ]
  }
 ],
 "metadata": {
  "interpreter": {
   "hash": "1baa965d5efe3ac65b79dfc60c0d706280b1da80fedb7760faf2759126c4f253"
  },
  "kernelspec": {
   "display_name": "Python 3.8.5 64-bit",
   "language": "python",
   "name": "python3"
  },
  "language_info": {
   "codemirror_mode": {
    "name": "ipython",
    "version": 3
   },
   "file_extension": ".py",
   "mimetype": "text/x-python",
   "name": "python",
   "nbconvert_exporter": "python",
   "pygments_lexer": "ipython3",
   "version": "3.7.8"
  },
  "orig_nbformat": 4
 },
 "nbformat": 4,
 "nbformat_minor": 2
}
