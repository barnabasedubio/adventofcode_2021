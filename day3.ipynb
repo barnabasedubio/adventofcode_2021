{
 "cells": [
  {
   "cell_type": "code",
   "execution_count": 1,
   "metadata": {},
   "outputs": [],
   "source": [
    "from aocd.models import Puzzle"
   ]
  },
  {
   "cell_type": "code",
   "execution_count": 11,
   "metadata": {},
   "outputs": [],
   "source": [
    "puzzle_input = Puzzle(2021, 3).input_data.split(\"\\n\")\n",
    "test_input = [\"00100\", \"11110\", \"10110\", \"10111\", \"10101\", \"01111\", \"00111\", \"11100\", \"10000\", \"11001\", \"00010\", \"01010\"]"
   ]
  },
  {
   "cell_type": "code",
   "execution_count": 49,
   "metadata": {},
   "outputs": [
    {
     "name": "stdout",
     "output_type": "stream",
     "text": [
      "2250414\n"
     ]
    }
   ],
   "source": [
    "def part1(input_list):\n",
    "\tcolumns = len(input_list[0])\n",
    "\n",
    "\tgamma = \"\"\n",
    "\tepsilon = \"\"\n",
    "\n",
    "\tfor ix in range(columns):\n",
    "\n",
    "\t\tones = get_count_of_bit_in_list(input_list, 1, ix)\n",
    "\t\tzeros = get_count_of_bit_in_list(input_list, 0, ix)\n",
    "\t\t\n",
    "\t\tif ones > zeros:\n",
    "\t\t\tgamma += \"1\"\n",
    "\t\t\tepsilon += \"0\"\n",
    "\t\telse:\n",
    "\t\t\tgamma += \"0\"\n",
    "\t\t\tepsilon += \"1\"\n",
    "\n",
    "\tgamma_as_decimal = int(gamma, 2)\n",
    "\tepsilon_as_decimal = int(epsilon, 2)\n",
    "\n",
    "\treturn gamma_as_decimal * epsilon_as_decimal\n",
    "\n",
    "print(part1(puzzle_input))"
   ]
  },
  {
   "cell_type": "code",
   "execution_count": 48,
   "metadata": {},
   "outputs": [
    {
     "name": "stdout",
     "output_type": "stream",
     "text": [
      "6085575\n"
     ]
    }
   ],
   "source": [
    "def part2(input_list, rating):\n",
    "\n",
    "\tcurrent_numbers_to_look_at = input_list\n",
    "\tcurrent_index = 0\n",
    "\ttie_breaker = 1 if rating == \"oxygen generator\" else (0 if rating == \"co2 scrubber\" else -1)\n",
    "\t\n",
    "\twhile len(current_numbers_to_look_at) > 1:\n",
    "\n",
    "\t\tnum_ones = get_count_of_bit_in_list(current_numbers_to_look_at, 1, current_index)\n",
    "\t\tnum_zeros = get_count_of_bit_in_list(current_numbers_to_look_at, 0, current_index)\n",
    "\n",
    "\t\tmost_common = 1 if num_ones > num_zeros else (0 if num_zeros > num_ones else tie_breaker)\n",
    "\t\tleast_common = 1 if num_ones < num_zeros else (0 if num_zeros < num_ones else tie_breaker)\n",
    "\n",
    "\t\tcriteria = str(most_common) if rating == \"oxygen generator\" else str(least_common)\n",
    "\n",
    "\t\tcurrent_numbers_to_look_at = [number for number in current_numbers_to_look_at if number[current_index] == criteria]\n",
    "\n",
    "\t\tcurrent_index += 1\n",
    "\n",
    "\treturn int(current_numbers_to_look_at[0], 2)\n",
    "\n",
    "\n",
    "print(part2(puzzle_input, \"oxygen generator\") * part2(puzzle_input, \"co2 scrubber\"))"
   ]
  },
  {
   "cell_type": "code",
   "execution_count": 47,
   "metadata": {},
   "outputs": [],
   "source": [
    "def get_count_of_bit_in_list(numbers, bit, position):\n",
    "\tcolumn_values = [row[position] for row in numbers]\n",
    "\tones = column_values.count(\"1\")\n",
    "\tzeros = column_values.count(\"0\")\n",
    "\tif bit == 1: return ones\n",
    "\telse: return zeros\n"
   ]
  }
 ],
 "metadata": {
  "interpreter": {
   "hash": "1baa965d5efe3ac65b79dfc60c0d706280b1da80fedb7760faf2759126c4f253"
  },
  "kernelspec": {
   "display_name": "Python 3.8.5 64-bit",
   "language": "python",
   "name": "python3"
  },
  "language_info": {
   "codemirror_mode": {
    "name": "ipython",
    "version": 3
   },
   "file_extension": ".py",
   "mimetype": "text/x-python",
   "name": "python",
   "nbconvert_exporter": "python",
   "pygments_lexer": "ipython3",
   "version": "3.8.5"
  },
  "orig_nbformat": 4
 },
 "nbformat": 4,
 "nbformat_minor": 2
}
