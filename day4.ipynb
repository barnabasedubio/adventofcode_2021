{
 "cells": [
  {
   "cell_type": "code",
   "execution_count": 17,
   "metadata": {},
   "outputs": [],
   "source": [
    "from aocd.models import Puzzle\n",
    "from pprint import pprint"
   ]
  },
  {
   "cell_type": "code",
   "execution_count": 104,
   "metadata": {},
   "outputs": [],
   "source": [
    "def generate_list_of_boards(input_list):\n",
    "\tlist_of_boards = []\n",
    "\tcurrent_board = []\n",
    "\tfor entry in input_list:\n",
    "\t\tif entry != \"\":\n",
    "\t\t\tentry = [x for x in entry.split(\" \")]\n",
    "\t\t\tentry = [x for x in entry if x.isnumeric()]  # remove whitespace in front of single digits\n",
    "\t\t\tcurrent_board.append([x for x in entry])\n",
    "\t\telse:\n",
    "\t\t\t# board complete. Add to board array and begin creating new board\n",
    "\t\t\tlist_of_boards.append(current_board)\n",
    "\t\t\tcurrent_board = []\n",
    "\n",
    "\t# once done with the puzzle input. Add the board that was being created. Since there is no \" \" line at the end\n",
    "\tlist_of_boards.append(current_board)\n",
    "\n",
    "\treturn list_of_boards"
   ]
  },
  {
   "cell_type": "code",
   "execution_count": 105,
   "metadata": {},
   "outputs": [],
   "source": [
    "puzzle_input = Puzzle(2021, 4).input_data.split(\"\\n\")"
   ]
  },
  {
   "cell_type": "code",
   "execution_count": 138,
   "metadata": {},
   "outputs": [],
   "source": [
    "order_of_selected_numbers = [x for x in puzzle_input[0].split(\",\")]\n",
    "list_of_boards = generate_list_of_boards(puzzle_input[2:])  # ignore order of numbers selected and the initial blank line\n",
    "\n",
    "test_order_of_selected_numbers = [str(x) for x in [7,4,9,5,11,17,23,2,0,14,21,24,10,16,13,6,15,25,12,22,18,20,8,19,3,26,1]]\n",
    "test_list_of_boards = \\\n",
    "[[['22', '13', '17', '11', '0'],\n",
    "  ['8', '2', '23', '4', '24'],\n",
    "  ['21', '9', '14', '16', '7'],\n",
    "  ['6', '10', '3', '18', '5'],\n",
    "  ['1', '12', '20', '15', '19']],\n",
    " [['3', '15', '0', '2', '22'],\n",
    "  ['9', '18', '13', '17', '5'],\n",
    "  ['19', '8', '7', '25', '23'],\n",
    "  ['20', '11', '10', '24', '4'],\n",
    "  ['14', '21', '16', '12', '6']],\n",
    " [['14', '21', '17', '24', '4'],\n",
    "  ['10', '16', '15', '9', '19'],\n",
    "  ['18', '8', '23', '26', '20'],\n",
    "  ['22', '11', '13', '6', '5'],\n",
    "  ['2', '0', '12', '3', '7']]]"
   ]
  },
  {
   "cell_type": "code",
   "execution_count": 135,
   "metadata": {},
   "outputs": [],
   "source": [
    "def part1(order_of_selected_numbers, list_of_boards):\n",
    "\tfor selected_number in order_of_selected_numbers:\n",
    "\t\tfor board in list_of_boards:\n",
    "\t\t\tboard = mark_number(board, selected_number)\n",
    "\t\t\tif does_bingo_exist(board):\n",
    "\t\t\t\treturn get_sum_of_unmarked_numbers(board) * int(selected_number)"
   ]
  },
  {
   "cell_type": "code",
   "execution_count": 136,
   "metadata": {},
   "outputs": [],
   "source": [
    "def part2(order_of_selected_numbers, list_of_boards):\n",
    "\tlast_winning_board, last_selected_number = None, None\n",
    "\tfor selected_number in order_of_selected_numbers:\n",
    "\t\tfor board in list_of_boards:\n",
    "\t\t\tif not does_bingo_exist(board):\n",
    "\t\t\t\tboard = mark_number(board, selected_number)\n",
    "\t\t\t\tif does_bingo_exist(board):\n",
    "\t\t\t\t\tlast_winning_board, last_selected_number = board, selected_number\n",
    "\n",
    "\treturn get_sum_of_unmarked_numbers(last_winning_board) * int(last_selected_number)"
   ]
  },
  {
   "cell_type": "code",
   "execution_count": 137,
   "metadata": {},
   "outputs": [
    {
     "data": {
      "text/plain": [
       "51776"
      ]
     },
     "execution_count": 137,
     "metadata": {},
     "output_type": "execute_result"
    }
   ],
   "source": [
    "part1(order_of_selected_numbers, list_of_boards)"
   ]
  },
  {
   "cell_type": "code",
   "execution_count": 139,
   "metadata": {},
   "outputs": [
    {
     "data": {
      "text/plain": [
       "16830"
      ]
     },
     "execution_count": 139,
     "metadata": {},
     "output_type": "execute_result"
    }
   ],
   "source": [
    "# you need to refresh the cell that defines the puzzle input before executing this cell\n",
    "\n",
    "part2(order_of_selected_numbers, list_of_boards)"
   ]
  },
  {
   "cell_type": "code",
   "execution_count": 26,
   "metadata": {},
   "outputs": [],
   "source": [
    "def does_bingo_exist(board):\n",
    "\t# first check if a row exists with only marked numbers\n",
    "\tfor numbers_row in board:\n",
    "\t\tif numbers_row[0][0] == \".\" and (numbers_row[0][0] == numbers_row[1][0] == numbers_row[2][0] == numbers_row[3][0] == numbers_row[4][0]):\n",
    "\t\t\treturn True\n",
    "\n",
    "\t# check if a column exists with only marked numbers\n",
    "\tfor column_entries in list(zip(board[0], board[1], board[2], board[3], board[4])):\n",
    "\t\tif column_entries[0][0] == \".\" and (column_entries[0][0] == column_entries[1][0] == column_entries[2][0] == column_entries[3][0] == column_entries[4][0]):\n",
    "\t\t\treturn True\n",
    "\n",
    "\treturn False"
   ]
  },
  {
   "cell_type": "code",
   "execution_count": 44,
   "metadata": {},
   "outputs": [],
   "source": [
    "def mark_number(board, selected_number):\n",
    "\tfor row in range(len(board)):\n",
    "\t\tfor col in range(len(board[0])):\n",
    "\t\t\tif board[row][col] == selected_number:\n",
    "\t\t\t\tboard[row][col] = \".\" + board[row][col]\n",
    "\treturn board"
   ]
  },
  {
   "cell_type": "code",
   "execution_count": 53,
   "metadata": {},
   "outputs": [],
   "source": [
    "def get_sum_of_unmarked_numbers(board):\n",
    "\tunmarked_numbers = []\n",
    "\tfor row in board:\n",
    "\t\tfor number in row:\n",
    "\t\t\tif not number.startswith(\".\"):\n",
    "\t\t\t\tunmarked_numbers.append(number)\n",
    "\t\n",
    "\treturn sum([int(x) for x in unmarked_numbers])"
   ]
  }
 ],
 "metadata": {
  "interpreter": {
   "hash": "1baa965d5efe3ac65b79dfc60c0d706280b1da80fedb7760faf2759126c4f253"
  },
  "kernelspec": {
   "display_name": "Python 3.8.5 64-bit",
   "language": "python",
   "name": "python3"
  },
  "language_info": {
   "codemirror_mode": {
    "name": "ipython",
    "version": 3
   },
   "file_extension": ".py",
   "mimetype": "text/x-python",
   "name": "python",
   "nbconvert_exporter": "python",
   "pygments_lexer": "ipython3",
   "version": "3.8.5"
  },
  "orig_nbformat": 4
 },
 "nbformat": 4,
 "nbformat_minor": 2
}
