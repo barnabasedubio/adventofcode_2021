{
 "cells": [
  {
   "cell_type": "code",
   "execution_count": 1,
   "metadata": {},
   "outputs": [],
   "source": [
    "from aocd.models import Puzzle"
   ]
  },
  {
   "cell_type": "code",
   "execution_count": 2,
   "metadata": {},
   "outputs": [],
   "source": [
    "puzzle_input = Puzzle(2021, 2).input_data.split(\"\\n\")"
   ]
  },
  {
   "cell_type": "code",
   "execution_count": 8,
   "metadata": {},
   "outputs": [],
   "source": [
    "def part1(input_list):\n",
    "\tposition = [0, 0]\n",
    "\tfor entry in input_list:\n",
    "\t\tdirection, amount = entry.split(\" \")[0], int(entry.split(\" \")[1])\n",
    "\t\tif direction == \"forward\":\n",
    "\t\t\tposition[0] += amount\n",
    "\t\tif direction == \"up\":\n",
    "\t\t\tposition[1] -= amount\n",
    "\t\tif direction == \"down\":\n",
    "\t\t\tposition[1] += amount\n",
    "\t\n",
    "\treturn position[0] * position[1]"
   ]
  },
  {
   "cell_type": "code",
   "execution_count": 9,
   "metadata": {},
   "outputs": [
    {
     "name": "stdout",
     "output_type": "stream",
     "text": [
      "1507611\n"
     ]
    }
   ],
   "source": [
    "print(part1(puzzle_input))"
   ]
  },
  {
   "cell_type": "code",
   "execution_count": 10,
   "metadata": {},
   "outputs": [],
   "source": [
    "def part2(input_list):\n",
    "\tposition = [0, 0]\n",
    "\taim = 0\n",
    "\tfor entry in input_list:\n",
    "\t\tdirection, amount = entry.split(\" \")[0], int(entry.split(\" \")[1])\n",
    "\t\tif direction == \"forward\":\n",
    "\t\t\tposition[0] += amount\n",
    "\t\t\tposition[1] += aim * amount\n",
    "\t\tif direction == \"up\":\n",
    "\t\t\taim -= amount\n",
    "\t\tif direction == \"down\":\n",
    "\t\t\taim += amount\n",
    "\t\n",
    "\treturn position[0] * position[1]"
   ]
  },
  {
   "cell_type": "code",
   "execution_count": 11,
   "metadata": {},
   "outputs": [
    {
     "name": "stdout",
     "output_type": "stream",
     "text": [
      "1880593125\n"
     ]
    }
   ],
   "source": [
    "print(part2(puzzle_input))"
   ]
  }
 ],
 "metadata": {
  "interpreter": {
   "hash": "1baa965d5efe3ac65b79dfc60c0d706280b1da80fedb7760faf2759126c4f253"
  },
  "kernelspec": {
   "display_name": "Python 3.8.5 64-bit",
   "language": "python",
   "name": "python3"
  },
  "language_info": {
   "codemirror_mode": {
    "name": "ipython",
    "version": 3
   },
   "file_extension": ".py",
   "mimetype": "text/x-python",
   "name": "python",
   "nbconvert_exporter": "python",
   "pygments_lexer": "ipython3",
   "version": "3.8.5"
  },
  "orig_nbformat": 4
 },
 "nbformat": 4,
 "nbformat_minor": 2
}
