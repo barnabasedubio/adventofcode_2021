{
 "cells": [
  {
   "cell_type": "code",
   "execution_count": 3,
   "metadata": {},
   "outputs": [],
   "source": [
    "from aocd.models import Puzzle"
   ]
  },
  {
   "cell_type": "code",
   "execution_count": 4,
   "metadata": {},
   "outputs": [],
   "source": [
    "puzzle_input = Puzzle(2021, 6).input_data.split(\",\")\n",
    "puzzle_input = [int(x) for x in puzzle_input]\n",
    "test_input = [3, 4, 3, 1, 2]"
   ]
  },
  {
   "cell_type": "code",
   "execution_count": 40,
   "metadata": {},
   "outputs": [],
   "source": [
    "def simulate_population(initial_state, epochs):\n",
    "    population_dict = {str(x):0 for x in range(9)}\n",
    "\n",
    "    for entry in [str(x) for x in initial_state]:\n",
    "        population_dict[entry] += 1\n",
    "\n",
    "    new_fish_amount = population_dict[\"0\"]\n",
    "\n",
    "    for _ in range(epochs):\n",
    "        for ix in range(8):\n",
    "            population_dict[str(ix)] = population_dict[str(ix+1)]\n",
    "\n",
    "            if ix == 6:\n",
    "                population_dict[str(ix)] += new_fish_amount\n",
    "\n",
    "        population_dict[\"8\"] = new_fish_amount\n",
    "        new_fish_amount = population_dict[\"0\"]\n",
    "    \n",
    "    print(sum(population_dict.values()))"
   ]
  },
  {
   "cell_type": "code",
   "execution_count": 41,
   "metadata": {},
   "outputs": [
    {
     "name": "stdout",
     "output_type": "stream",
     "text": [
      "391671\n"
     ]
    }
   ],
   "source": [
    "# part 1\n",
    "simulate_population(puzzle_input, 80)"
   ]
  },
  {
   "cell_type": "code",
   "execution_count": 42,
   "metadata": {},
   "outputs": [
    {
     "name": "stdout",
     "output_type": "stream",
     "text": [
      "1754000560399\n"
     ]
    }
   ],
   "source": [
    "# part 2\n",
    "simulate_population(puzzle_input, 256)"
   ]
  }
 ],
 "metadata": {
  "interpreter": {
   "hash": "57baa5815c940fdaff4d14510622de9616cae602444507ba5d0b6727c008cbd6"
  },
  "kernelspec": {
   "display_name": "Python 3.7.8 64-bit",
   "language": "python",
   "name": "python3"
  },
  "language_info": {
   "codemirror_mode": {
    "name": "ipython",
    "version": 3
   },
   "file_extension": ".py",
   "mimetype": "text/x-python",
   "name": "python",
   "nbconvert_exporter": "python",
   "pygments_lexer": "ipython3",
   "version": "3.7.8"
  },
  "orig_nbformat": 4
 },
 "nbformat": 4,
 "nbformat_minor": 2
}
