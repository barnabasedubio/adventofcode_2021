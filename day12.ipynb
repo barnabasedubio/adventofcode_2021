{
 "cells": [
  {
   "cell_type": "code",
   "execution_count": 2,
   "metadata": {},
   "outputs": [],
   "source": [
    "from aocd.models import Puzzle\n",
    "from pprint import pprint\n",
    "import random\n",
    "from copy import deepcopy"
   ]
  },
  {
   "cell_type": "code",
   "execution_count": 3,
   "metadata": {},
   "outputs": [],
   "source": [
    "puzzle_input = Puzzle(2021, 12).input_data.split(\"\\n\")\n",
    "small_test_input = [\n",
    "\t\"start-A\",\n",
    "\t\"start-b\",\n",
    "\t\"A-c\",\n",
    "\t\"A-b\",\n",
    "\t\"b-d\",\n",
    "\t\"A-end\",\n",
    "\t\"b-end\"\n",
    "]\n",
    "medium_test_input = [\n",
    "\t\"dc-end\",\n",
    "\t\"HN-start\",\n",
    "\t\"start-kj\",\n",
    "\t\"dc-start\",\n",
    "\t\"dc-HN\",\n",
    "\t\"LN-dc\",\n",
    "\t\"HN-end\",\n",
    "\t\"kj-sa\",\n",
    "\t\"kj-HN\",\n",
    "\t\"kj-dc\",\n",
    "]\n",
    "large_test_input = [\n",
    "\t\"fs-end\",\n",
    "\t\"he-DX\",\n",
    "\t\"fs-he\",\n",
    "\t\"start-DX\",\n",
    "\t\"pj-DX\",\n",
    "\t\"end-zg\",\n",
    "\t\"zg-sl\",\n",
    "\t\"zg-pj\",\n",
    "\t\"pj-he\",\n",
    "\t\"RW-he\",\n",
    "\t\"fs-DX\",\n",
    "\t\"pj-RW\",\n",
    "\t\"zg-RW\",\n",
    "\t\"start-pj\",\n",
    "\t\"he-WI\",\n",
    "\t\"zg-he\",\n",
    "\t\"pj-fs\",\n",
    "\t\"start-RW\",\n",
    "]"
   ]
  },
  {
   "cell_type": "code",
   "execution_count": 4,
   "metadata": {},
   "outputs": [],
   "source": [
    "def generate_connection_directory(connection_list):\n",
    "\tconnection_map = {}\n",
    "\tfor connection in connection_list:\n",
    "\t\tconnection_start = connection.split(\"-\")[0]\n",
    "\t\tconnection_end = connection.split(\"-\")[1]\n",
    "\t\t\n",
    "\t\tif connection_start not in connection_map:\n",
    "\t\t\tconnection_map[connection_start] = [connection_end]\n",
    "\t\tif connection_start in connection_map:\n",
    "\t\t\tif connection_end not in connection_map[connection_start]:\n",
    "\t\t\t\tconnection_map[connection_start].append(connection_end)\n",
    "\n",
    "\t\tif connection_end not in connection_map:\n",
    "\t\t\tconnection_map[connection_end] = [connection_start]\n",
    "\t\tif connection_end in connection_map:\n",
    "\t\t\tif connection_start not in connection_map[connection_end]:\n",
    "\t\t\t\tconnection_map[connection_end].append(connection_start)\n",
    "\n",
    "\treturn connection_map"
   ]
  },
  {
   "cell_type": "code",
   "execution_count": 44,
   "metadata": {},
   "outputs": [],
   "source": [
    "def generate_path(input_directory):\n",
    "\t# since small caves can only be visited at most once, and big caves any number of times\n",
    "\t# disregard any small caves which only have one connection to another small cave,\n",
    "\t# as these ones cant be visited in the first place.\n",
    "\tnew_input_directory = deepcopy(input_directory)\n",
    "\tnew_input_directory = {x:new_input_directory[x]\n",
    "\t\t\t\t\t\t\tfor x,new_input_directory[x] in new_input_directory.items()\n",
    "\t\t\t\t\t\t\tif len(new_input_directory[x]) > 1 or\n",
    "\t\t\t\t\t\t\tnew_input_directory[x][0] == new_input_directory[x][0].upper()}\n",
    "\t\n",
    "\t# pprint(new_input_directory)\n",
    "\n",
    "\tpath = \"start,\"\n",
    "\tcurrent_cave = \"start\"\n",
    "\trestart = False\n",
    "\n",
    "\twhile \"end\" not in path:\n",
    "\t\tpossible_next_caves = [x for x in new_input_directory[current_cave] if x in new_input_directory and (x == x.upper() or x not in path)]\n",
    "\t\tif not possible_next_caves:\n",
    "\t\t\t# all possible caves are small caves which have already been explored. You have reached a cul-de-sac. Restart path finding process.\n",
    "\t\t\trestart = True\n",
    "\t\telse:\n",
    "\t\t\tnext_cave = random.choice(possible_next_caves)\n",
    "\t\t\tpath += f\"{next_cave},\"\n",
    "\t\t\tcurrent_cave = next_cave\n",
    "\t\tif restart:\n",
    "\t\t\tpath = \"start,\"\n",
    "\t\t\tcurrent_cave = \"start\"\n",
    "\t\t\trestart = False\n",
    "\t\t\tcontinue\n",
    "\n",
    "\n",
    "\treturn path[:-1]  # remove comma behind \"end\""
   ]
  },
  {
   "cell_type": "code",
   "execution_count": 64,
   "metadata": {},
   "outputs": [],
   "source": [
    "def calculate_num_paths(input_directory):\n",
    "\tpaths = []\n",
    "\talready_in_paths = 0\n",
    "\t# if after 1000 iterations no new path has been found, it is highly likely that all possible paths have been explored.\n",
    "\twhile already_in_paths < 10000000:\n",
    "\t\tpath = generate_path(input_directory)\n",
    "\t\tif path in paths:\n",
    "\t\t\talready_in_paths += 1\n",
    "\t\telse:\n",
    "\t\t\tpaths.append(path)\n",
    "\t\t\talready_in_paths = 0\n",
    "\n",
    "\tprint(len(paths))"
   ]
  },
  {
   "cell_type": "code",
   "execution_count": 66,
   "metadata": {},
   "outputs": [
    {
     "name": "stdout",
     "output_type": "stream",
     "text": [
      "5958\n"
     ]
    }
   ],
   "source": [
    "small_test_connection_directory = generate_connection_directory(small_test_input)\n",
    "medium_test_connection_directory = generate_connection_directory(medium_test_input)\n",
    "large_test_connection_directory = generate_connection_directory(large_test_input)\n",
    "puzzle_input_connection_directory = generate_connection_directory(puzzle_input)\n",
    "\n",
    "# part a\n",
    "calculate_num_paths(puzzle_input_connection_directory)"
   ]
  },
  {
   "cell_type": "code",
   "execution_count": 52,
   "metadata": {},
   "outputs": [],
   "source": [
    "# print(generate_path(deepcopy(large_test_connection_directory)))"
   ]
  },
  {
   "cell_type": "code",
   "execution_count": null,
   "metadata": {},
   "outputs": [],
   "source": []
  }
 ],
 "metadata": {
  "interpreter": {
   "hash": "1baa965d5efe3ac65b79dfc60c0d706280b1da80fedb7760faf2759126c4f253"
  },
  "kernelspec": {
   "display_name": "Python 3.8.5 64-bit",
   "language": "python",
   "name": "python3"
  },
  "language_info": {
   "codemirror_mode": {
    "name": "ipython",
    "version": 3
   },
   "file_extension": ".py",
   "mimetype": "text/x-python",
   "name": "python",
   "nbconvert_exporter": "python",
   "pygments_lexer": "ipython3",
   "version": "3.8.5"
  },
  "orig_nbformat": 4
 },
 "nbformat": 4,
 "nbformat_minor": 2
}
