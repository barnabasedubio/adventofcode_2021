{
 "cells": [
  {
   "cell_type": "code",
   "execution_count": 208,
   "metadata": {},
   "outputs": [],
   "source": [
    "from aocd.models import Puzzle\n",
    "from collections import defaultdict"
   ]
  },
  {
   "cell_type": "code",
   "execution_count": 209,
   "metadata": {},
   "outputs": [],
   "source": [
    "puzzle_input = Puzzle(2021, 12).input_data.split(\"\\n\")\n",
    "small_test_input = [\n",
    "\t\"start-A\",\n",
    "\t\"start-b\",\n",
    "\t\"A-c\",\n",
    "\t\"A-b\",\n",
    "\t\"b-d\",\n",
    "\t\"A-end\",\n",
    "\t\"b-end\"\n",
    "]\n",
    "medium_test_input = [\n",
    "\t\"dc-end\",\n",
    "\t\"HN-start\",\n",
    "\t\"start-kj\",\n",
    "\t\"dc-start\",\n",
    "\t\"dc-HN\",\n",
    "\t\"LN-dc\",\n",
    "\t\"HN-end\",\n",
    "\t\"kj-sa\",\n",
    "\t\"kj-HN\",\n",
    "\t\"kj-dc\",\n",
    "]\n",
    "large_test_input = [\n",
    "\t\"fs-end\",\n",
    "\t\"he-DX\",\n",
    "\t\"fs-he\",\n",
    "\t\"start-DX\",\n",
    "\t\"pj-DX\",\n",
    "\t\"end-zg\",\n",
    "\t\"zg-sl\",\n",
    "\t\"zg-pj\",\n",
    "\t\"pj-he\",\n",
    "\t\"RW-he\",\n",
    "\t\"fs-DX\",\n",
    "\t\"pj-RW\",\n",
    "\t\"zg-RW\",\n",
    "\t\"start-pj\",\n",
    "\t\"he-WI\",\n",
    "\t\"zg-he\",\n",
    "\t\"pj-fs\",\n",
    "\t\"start-RW\",\n",
    "]"
   ]
  },
  {
   "cell_type": "code",
   "execution_count": 210,
   "metadata": {},
   "outputs": [],
   "source": [
    "def generate_connection_directory(connection_list):\n",
    "\tconnection_map = defaultdict(list)\n",
    "\tfor connection in connection_list:\n",
    "\t\tpair = connection.strip().split(\"-\")\n",
    "\t\tfor p1, p2 in zip(pair, reversed(pair)):  # [a, b] --> [(a, b), (b, a)]\n",
    "\t\t\tif p2 != \"start\":\n",
    "\t\t\t\tconnection_map[p1].append(p2)\n",
    "\tdel(connection_map[\"end\"])\n",
    "\n",
    "\treturn connection_map"
   ]
  },
  {
   "cell_type": "code",
   "execution_count": 211,
   "metadata": {},
   "outputs": [],
   "source": [
    "def traverse1(input, path=[\"start\"]):\n",
    "\tcount = 0\n",
    "\tfor cave in input[path[-1]]:\n",
    "\t\tif cave.isupper() or not cave in path:\n",
    "\t\t\tcount = count+1 if cave == \"end\" else count+traverse1(input, path+[cave])\n",
    "\treturn count"
   ]
  },
  {
   "cell_type": "code",
   "execution_count": 212,
   "metadata": {},
   "outputs": [],
   "source": [
    "def traverse2(input, path=[\"start\"]):\n",
    "\tcount = 0\n",
    "\tfor cave in input[path[-1]]:\n",
    "\t\tcount = count+1 if cave == \"end\" else count+(traverse2, traverse1)[cave.islower() and cave in path](input, path+[cave])\n",
    "\treturn count"
   ]
  },
  {
   "cell_type": "code",
   "execution_count": 216,
   "metadata": {},
   "outputs": [
    {
     "data": {
      "text/plain": [
       "5958"
      ]
     },
     "execution_count": 216,
     "metadata": {},
     "output_type": "execute_result"
    }
   ],
   "source": [
    "# part a\n",
    "traverse1(generate_connection_directory(puzzle_input))"
   ]
  },
  {
   "cell_type": "code",
   "execution_count": 217,
   "metadata": {},
   "outputs": [
    {
     "data": {
      "text/plain": [
       "150426"
      ]
     },
     "execution_count": 217,
     "metadata": {},
     "output_type": "execute_result"
    }
   ],
   "source": [
    "# part b\n",
    "traverse2(generate_connection_directory(puzzle_input))"
   ]
  },
  {
   "cell_type": "code",
   "execution_count": null,
   "metadata": {},
   "outputs": [],
   "source": []
  }
 ],
 "metadata": {
  "interpreter": {
   "hash": "1baa965d5efe3ac65b79dfc60c0d706280b1da80fedb7760faf2759126c4f253"
  },
  "kernelspec": {
   "display_name": "Python 3.8.5 64-bit",
   "language": "python",
   "name": "python3"
  },
  "language_info": {
   "codemirror_mode": {
    "name": "ipython",
    "version": 3
   },
   "file_extension": ".py",
   "mimetype": "text/x-python",
   "name": "python",
   "nbconvert_exporter": "python",
   "pygments_lexer": "ipython3",
   "version": "3.8.5"
  },
  "orig_nbformat": 4
 },
 "nbformat": 4,
 "nbformat_minor": 2
}
