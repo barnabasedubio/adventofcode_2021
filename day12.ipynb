{
 "cells": [
  {
   "cell_type": "code",
   "execution_count": 15,
   "metadata": {},
   "outputs": [],
   "source": [
    "from aocd.models import Puzzle\n",
    "from pprint import pprint\n",
    "import random\n",
    "from copy import deepcopy"
   ]
  },
  {
   "cell_type": "code",
   "execution_count": 3,
   "metadata": {},
   "outputs": [],
   "source": [
    "puzzle_input = Puzzle(2021, 12).input_data.split(\"\\n\")\n",
    "small_test_input = [\n",
    "\t\"start-A\",\n",
    "\t\"start-b\",\n",
    "\t\"A-c\",\n",
    "\t\"A-b\",\n",
    "\t\"b-d\",\n",
    "\t\"A-end\",\n",
    "\t\"b-end\"\n",
    "]\n",
    "medium_test_input = [\n",
    "\t\"dc-end\",\n",
    "\t\"HN-start\",\n",
    "\t\"start-kj\",\n",
    "\t\"dc-start\",\n",
    "\t\"dc-HN\",\n",
    "\t\"LN-dc\",\n",
    "\t\"HN-end\",\n",
    "\t\"kj-sa\",\n",
    "\t\"kj-HN\",\n",
    "\t\"kj-dc\",\n",
    "]\n",
    "large_test_input = [\n",
    "\t\"fs-end\",\n",
    "\t\"he-DX\",\n",
    "\t\"fs-he\",\n",
    "\t\"start-DX\",\n",
    "\t\"pj-DX\",\n",
    "\t\"end-zg\",\n",
    "\t\"zg-sl\",\n",
    "\t\"zg-pj\",\n",
    "\t\"pj-he\",\n",
    "\t\"RW-he\",\n",
    "\t\"fs-DX\",\n",
    "\t\"pj-RW\",\n",
    "\t\"zg-RW\",\n",
    "\t\"start-pj\",\n",
    "\t\"he-WI\",\n",
    "\t\"zg-he\",\n",
    "\t\"pj-fs\",\n",
    "\t\"start-RW\",\n",
    "]"
   ]
  },
  {
   "cell_type": "code",
   "execution_count": 4,
   "metadata": {},
   "outputs": [],
   "source": [
    "def generate_connection_directory(connection_list):\n",
    "\tconnection_map = {}\n",
    "\tfor connection in connection_list:\n",
    "\t\tconnection_start = connection.split(\"-\")[0]\n",
    "\t\tconnection_end = connection.split(\"-\")[1]\n",
    "\t\t\n",
    "\t\tif connection_start not in connection_map:\n",
    "\t\t\tconnection_map[connection_start] = [connection_end]\n",
    "\t\tif connection_start in connection_map:\n",
    "\t\t\tif connection_end not in connection_map[connection_start]:\n",
    "\t\t\t\tconnection_map[connection_start].append(connection_end)\n",
    "\n",
    "\t\tif connection_end not in connection_map:\n",
    "\t\t\tconnection_map[connection_end] = [connection_start]\n",
    "\t\tif connection_end in connection_map:\n",
    "\t\t\tif connection_start not in connection_map[connection_end]:\n",
    "\t\t\t\tconnection_map[connection_end].append(connection_start)\n",
    "\n",
    "\treturn connection_map"
   ]
  },
  {
   "cell_type": "code",
   "execution_count": 141,
   "metadata": {},
   "outputs": [],
   "source": [
    "def generate_path(input_directory):\n",
    "\t# since small caves can only be visited at most once, and big caves any number of times\n",
    "\t# disregard any small caves which only have one connection to another small cave,\n",
    "\t# as these ones cant be visited in the first place.\n",
    "\tnew_input_directory = deepcopy(input_directory)\n",
    "\tnew_input_directory = {x:new_input_directory[x]\n",
    "\t\t\t\t\t\t\tfor x,new_input_directory[x] in new_input_directory.items()\n",
    "\t\t\t\t\t\t\tif len(new_input_directory[x]) > 1 or\n",
    "\t\t\t\t\t\t\tnew_input_directory[x][0] == new_input_directory[x][0].upper()}\n",
    "\t\n",
    "\tpprint(new_input_directory)\n",
    "\n",
    "\tpath = \"\"\n",
    "\tpath += \"start,\"\n",
    "\twhile True:\n",
    "\t\tcurrent_cave = \"start\"\n",
    "\t\twhile \"end\" not in path:\n",
    "\t\t\ttry:\n",
    "\t\t\t\tnext_cave = random.choice([x for x in new_input_directory[current_cave]\n",
    "\t\t\t\t\t\t\t\t\t\t\tif x in new_input_directory and \n",
    "\t\t\t\t\t\t\t\t\t\t\t(x == x.upper() or x not in path)])\n",
    "\t\t\t\tpath += f\"{next_cave},\"\n",
    "\t\t\t\tcurrent_cave = next_cave\n",
    "\t\t\texcept IndexError as e:\n",
    "\t\t\t\tprint(e)\n",
    "\t\t\t\tprint(new_input_directory[current_cave])\n",
    "\t\tbreak\n",
    "\n",
    "\tpath = path[:-1]  # remove comma behind \"end\"\n",
    "\treturn path"
   ]
  },
  {
   "cell_type": "code",
   "execution_count": 142,
   "metadata": {},
   "outputs": [],
   "source": [
    "small_test_connection_directory = generate_connection_directory(small_test_input)\n",
    "medium_test_connection_directory = generate_connection_directory(medium_test_input)\n",
    "large_test_connection_directory = generate_connection_directory(large_test_input)\n",
    "puzzle_input_connection_directory = generate_connection_directory(puzzle_input)"
   ]
  },
  {
   "cell_type": "code",
   "execution_count": 143,
   "metadata": {},
   "outputs": [
    {
     "name": "stdout",
     "output_type": "stream",
     "text": [
      "{'DX': ['he', 'start', 'pj', 'fs'],\n",
      " 'RW': ['he', 'pj', 'zg', 'start'],\n",
      " 'end': ['fs', 'zg'],\n",
      " 'fs': ['end', 'he', 'DX', 'pj'],\n",
      " 'he': ['DX', 'fs', 'pj', 'RW', 'WI', 'zg'],\n",
      " 'pj': ['DX', 'zg', 'he', 'RW', 'start', 'fs'],\n",
      " 'start': ['DX', 'pj', 'RW'],\n",
      " 'zg': ['end', 'sl', 'pj', 'RW', 'he']}\n",
      "start,DX,fs,end\n"
     ]
    }
   ],
   "source": [
    "print(generate_path(deepcopy(large_test_connection_directory)))"
   ]
  },
  {
   "cell_type": "code",
   "execution_count": 125,
   "metadata": {},
   "outputs": [],
   "source": [
    "def calculate_num_paths(input_directory):\n",
    "\tpaths = []\n",
    "\talready_in_paths = 0\n",
    "\t# if after 1000 iterations no new path has been found, it is highly likely that all possible paths have been explored.\n",
    "\twhile already_in_paths < 1000:\n",
    "\t\tpath = generate_path(input_directory)\n",
    "\t\tif path in paths:\n",
    "\t\t\talready_in_paths += 1\n",
    "\t\telse:\n",
    "\t\t\tpaths.append(path)\n",
    "\t\t\talready_in_paths = 0\n",
    "\n",
    "\tprint(len(paths))"
   ]
  },
  {
   "cell_type": "code",
   "execution_count": 124,
   "metadata": {},
   "outputs": [
    {
     "ename": "AttributeError",
     "evalue": "'list' object has no attribute 'items'",
     "output_type": "error",
     "traceback": [
      "\u001b[1;31m---------------------------------------------------------------------------\u001b[0m",
      "\u001b[1;31mAttributeError\u001b[0m                            Traceback (most recent call last)",
      "\u001b[1;32m<ipython-input-124-cf2e56f0d3dd>\u001b[0m in \u001b[0;36m<module>\u001b[1;34m\u001b[0m\n\u001b[0;32m      1\u001b[0m \u001b[1;31m# part a\u001b[0m\u001b[1;33m\u001b[0m\u001b[1;33m\u001b[0m\u001b[1;33m\u001b[0m\u001b[0m\n\u001b[1;32m----> 2\u001b[1;33m \u001b[0mcalculate_num_paths\u001b[0m\u001b[1;33m(\u001b[0m\u001b[0msmall_test_input\u001b[0m\u001b[1;33m)\u001b[0m\u001b[1;33m\u001b[0m\u001b[1;33m\u001b[0m\u001b[0m\n\u001b[0m",
      "\u001b[1;32m<ipython-input-123-72457d66586d>\u001b[0m in \u001b[0;36mcalculate_num_paths\u001b[1;34m(input_directory)\u001b[0m\n\u001b[0;32m      4\u001b[0m         \u001b[1;31m# if after 1000 iterations no new path has been found, it is highly likely that all possible paths have been explored.\u001b[0m\u001b[1;33m\u001b[0m\u001b[1;33m\u001b[0m\u001b[1;33m\u001b[0m\u001b[0m\n\u001b[0;32m      5\u001b[0m         \u001b[1;32mwhile\u001b[0m \u001b[0malready_in_paths\u001b[0m \u001b[1;33m<\u001b[0m \u001b[1;36m1000\u001b[0m\u001b[1;33m:\u001b[0m\u001b[1;33m\u001b[0m\u001b[1;33m\u001b[0m\u001b[0m\n\u001b[1;32m----> 6\u001b[1;33m                 \u001b[0mpath\u001b[0m \u001b[1;33m=\u001b[0m \u001b[0mgenerate_path\u001b[0m\u001b[1;33m(\u001b[0m\u001b[0minput_directory\u001b[0m\u001b[1;33m)\u001b[0m\u001b[1;33m\u001b[0m\u001b[1;33m\u001b[0m\u001b[0m\n\u001b[0m\u001b[0;32m      7\u001b[0m                 \u001b[1;32mif\u001b[0m \u001b[0mpath\u001b[0m \u001b[1;32min\u001b[0m \u001b[0mpaths\u001b[0m\u001b[1;33m:\u001b[0m\u001b[1;33m\u001b[0m\u001b[1;33m\u001b[0m\u001b[0m\n\u001b[0;32m      8\u001b[0m                         \u001b[0malready_in_paths\u001b[0m \u001b[1;33m+=\u001b[0m \u001b[1;36m1\u001b[0m\u001b[1;33m\u001b[0m\u001b[1;33m\u001b[0m\u001b[0m\n",
      "\u001b[1;32m<ipython-input-90-d7de3c812f26>\u001b[0m in \u001b[0;36mgenerate_path\u001b[1;34m(input_directory)\u001b[0m\n\u001b[0;32m      5\u001b[0m         \u001b[0mnew_input_directory\u001b[0m \u001b[1;33m=\u001b[0m \u001b[0mdeepcopy\u001b[0m\u001b[1;33m(\u001b[0m\u001b[0minput_directory\u001b[0m\u001b[1;33m)\u001b[0m\u001b[1;33m\u001b[0m\u001b[1;33m\u001b[0m\u001b[0m\n\u001b[0;32m      6\u001b[0m \tnew_input_directory = {x:new_input_directory[x]\n\u001b[1;32m----> 7\u001b[1;33m                                                         \u001b[1;32mfor\u001b[0m \u001b[0mx\u001b[0m\u001b[1;33m,\u001b[0m\u001b[0mnew_input_directory\u001b[0m\u001b[1;33m[\u001b[0m\u001b[0mx\u001b[0m\u001b[1;33m]\u001b[0m \u001b[1;32min\u001b[0m \u001b[0mnew_input_directory\u001b[0m\u001b[1;33m.\u001b[0m\u001b[0mitems\u001b[0m\u001b[1;33m(\u001b[0m\u001b[1;33m)\u001b[0m\u001b[1;33m\u001b[0m\u001b[1;33m\u001b[0m\u001b[0m\n\u001b[0m\u001b[0;32m      8\u001b[0m                                                         \u001b[1;32mif\u001b[0m \u001b[0mlen\u001b[0m\u001b[1;33m(\u001b[0m\u001b[0mnew_input_directory\u001b[0m\u001b[1;33m[\u001b[0m\u001b[0mx\u001b[0m\u001b[1;33m]\u001b[0m\u001b[1;33m)\u001b[0m \u001b[1;33m>\u001b[0m \u001b[1;36m1\u001b[0m \u001b[1;32mor\u001b[0m\u001b[1;33m\u001b[0m\u001b[1;33m\u001b[0m\u001b[0m\n\u001b[0;32m      9\u001b[0m \t\t\t\t\t\t\tnew_input_directory[x][0] == new_input_directory[x][0].upper()}\n",
      "\u001b[1;31mAttributeError\u001b[0m: 'list' object has no attribute 'items'"
     ]
    }
   ],
   "source": [
    "# part a\n",
    "calculate_num_paths(small_test_input)"
   ]
  },
  {
   "cell_type": "code",
   "execution_count": 37,
   "metadata": {},
   "outputs": [
    {
     "data": {
      "text/plain": [
       "'FJ'"
      ]
     },
     "execution_count": 37,
     "metadata": {},
     "output_type": "execute_result"
    }
   ],
   "source": [
    "\"fj\".upper()"
   ]
  },
  {
   "cell_type": "code",
   "execution_count": null,
   "metadata": {},
   "outputs": [],
   "source": []
  }
 ],
 "metadata": {
  "interpreter": {
   "hash": "1baa965d5efe3ac65b79dfc60c0d706280b1da80fedb7760faf2759126c4f253"
  },
  "kernelspec": {
   "display_name": "Python 3.8.5 64-bit",
   "language": "python",
   "name": "python3"
  },
  "language_info": {
   "codemirror_mode": {
    "name": "ipython",
    "version": 3
   },
   "file_extension": ".py",
   "mimetype": "text/x-python",
   "name": "python",
   "nbconvert_exporter": "python",
   "pygments_lexer": "ipython3",
   "version": "3.8.5"
  },
  "orig_nbformat": 4
 },
 "nbformat": 4,
 "nbformat_minor": 2
}
