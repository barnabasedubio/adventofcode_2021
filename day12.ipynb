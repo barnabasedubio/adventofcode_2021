{
 "cells": [
  {
   "cell_type": "code",
   "execution_count": 15,
   "metadata": {},
   "outputs": [],
   "source": [
    "from aocd.models import Puzzle\n",
    "from collections import defaultdict\n",
    "from pprint import pprint\n",
    "from copy import deepcopy"
   ]
  },
  {
   "cell_type": "code",
   "execution_count": 2,
   "metadata": {},
   "outputs": [],
   "source": [
    "puzzle_input = Puzzle(2021, 12).input_data.split(\"\\n\")\n",
    "small_test_input = [\n",
    "\t\"start-A\",\n",
    "\t\"start-b\",\n",
    "\t\"A-c\",\n",
    "\t\"A-b\",\n",
    "\t\"b-d\",\n",
    "\t\"A-end\",\n",
    "\t\"b-end\"\n",
    "]\n",
    "medium_test_input = [\n",
    "\t\"dc-end\",\n",
    "\t\"HN-start\",\n",
    "\t\"start-kj\",\n",
    "\t\"dc-start\",\n",
    "\t\"dc-HN\",\n",
    "\t\"LN-dc\",\n",
    "\t\"HN-end\",\n",
    "\t\"kj-sa\",\n",
    "\t\"kj-HN\",\n",
    "\t\"kj-dc\",\n",
    "]\n",
    "large_test_input = [\n",
    "\t\"fs-end\",\n",
    "\t\"he-DX\",\n",
    "\t\"fs-he\",\n",
    "\t\"start-DX\",\n",
    "\t\"pj-DX\",\n",
    "\t\"end-zg\",\n",
    "\t\"zg-sl\",\n",
    "\t\"zg-pj\",\n",
    "\t\"pj-he\",\n",
    "\t\"RW-he\",\n",
    "\t\"fs-DX\",\n",
    "\t\"pj-RW\",\n",
    "\t\"zg-RW\",\n",
    "\t\"start-pj\",\n",
    "\t\"he-WI\",\n",
    "\t\"zg-he\",\n",
    "\t\"pj-fs\",\n",
    "\t\"start-RW\",\n",
    "]"
   ]
  },
  {
   "cell_type": "code",
   "execution_count": 6,
   "metadata": {},
   "outputs": [],
   "source": [
    "def generate_connection_dictionary(connections):\n",
    "\t# use of defaultdict saves us from having to instantiate an empty list (of check if a list already exists)\n",
    "\tconnection_dictionary = defaultdict(list)\n",
    "\tfor connection in connections:\n",
    "\t\tconnection_pair = connection.strip().split(\"-\")\n",
    "\t\tfor start,end in zip(connection_pair, reversed(connection_pair)):\n",
    "\t\t\tif end != \"start\":\n",
    "\t\t\t\tconnection_dictionary[start].append(end)\n",
    "\t\n",
    "\tdel(connection_dictionary[\"end\"])\n",
    "\treturn connection_dictionary"
   ]
  },
  {
   "cell_type": "code",
   "execution_count": 105,
   "metadata": {},
   "outputs": [],
   "source": [
    "# use DFS to find all valid paths from start to end\n",
    "def find_paths(input_dictionary):\n",
    "\tconnection_dictionary = deepcopy(input_dictionary)\n",
    "\tfound_paths = []\n",
    "\tpath_stack = []\n",
    "\t# count = 0  # just using this as a failsave if we enter an endless loop. Be sure to remove once this code works\n",
    "\n",
    "\t# pprint(connection_dictionary)\n",
    "\n",
    "\tcurrent_path = \"start,\"\n",
    "\tpath_stack.append({\"start\":connection_dictionary[\"start\"]})\n",
    "\n",
    "\twhile path_stack:\n",
    "\t\tpath_list = [list(cave.keys())[0] for cave in path_stack]\n",
    "\t\t# print(path_list)\n",
    "\t\tcurrent_cave_dictionary = path_stack[-1]\n",
    "\t\tnext_cave_options = [\n",
    "\t\t\tcave for cave in list(current_cave_dictionary.values())[0]\n",
    "\t\t\tif (cave.isupper() or cave not in current_path)\n",
    "\t\t\tand current_path+f\"{cave}\" not in found_paths\n",
    "\t\t]\n",
    "\n",
    "\t\tif not next_cave_options:\n",
    "\t\t\t# print(\"cul-de-sac\")\n",
    "\t\t\tcurrent_cave_dictionary = path_stack.pop()\n",
    "\t\t\tcurrent_cave_key = list(current_cave_dictionary.keys())[0]\n",
    "\t\t\tif not path_stack: break\n",
    "\t\t\tprevious_cave_dict = path_stack[-1]\n",
    "\t\t\tprevious_cave_key = list(previous_cave_dict.keys())[0]\n",
    "\t\t\tprevious_cave_dict[previous_cave_key] = [cave for cave in previous_cave_dict[previous_cave_key] if cave != current_cave_key]\n",
    "\t\t\tcurrent_path = \",\".join(current_path.split(\",\")[:-2]) + \",\"\n",
    "\n",
    "\t\telse:\n",
    "\t\t\tnext_cave = next_cave_options[0]\n",
    "\t\t\tcurrent_path += f\"{next_cave}\" + \",\"\n",
    "\t\t\tpath_stack.append({next_cave:connection_dictionary[next_cave]})\n",
    "\t\t\tif next_cave == \"end\":\n",
    "\t\t\t\t# print([list(cave.keys())[0] for cave in path_stack])\n",
    "\t\t\t\tfound_paths.append(current_path[:-1])  # remove trailing comma\n",
    "\t\t\t\t# print(f\"Added {current_path[:-1]} to found paths\")\n",
    "\t\t\t\tpath_stack.pop()  # remove \"end\" from path stack\n",
    "\t\t\t\tcurrent_path = \",\".join(current_path.split(\",\")[:-2]) + \",\"  # remove \"end,\" from current path\n",
    "\n",
    "\t\t\n",
    "\t\t# count += 1\n",
    "\n",
    "\t# pprint(found_paths)\n",
    "\tprint(len(found_paths))\n",
    "\t# print(count)\n"
   ]
  },
  {
   "cell_type": "code",
   "execution_count": 107,
   "metadata": {},
   "outputs": [
    {
     "name": "stdout",
     "output_type": "stream",
     "text": [
      "5958\n"
     ]
    }
   ],
   "source": [
    "# part 1\n",
    "find_paths(generate_connection_dictionary(puzzle_input))"
   ]
  },
  {
   "cell_type": "code",
   "execution_count": null,
   "metadata": {},
   "outputs": [],
   "source": []
  },
  {
   "cell_type": "code",
   "execution_count": null,
   "metadata": {},
   "outputs": [],
   "source": []
  }
 ],
 "metadata": {
  "interpreter": {
   "hash": "1baa965d5efe3ac65b79dfc60c0d706280b1da80fedb7760faf2759126c4f253"
  },
  "kernelspec": {
   "display_name": "Python 3.8.5 64-bit",
   "language": "python",
   "name": "python3"
  },
  "language_info": {
   "codemirror_mode": {
    "name": "ipython",
    "version": 3
   },
   "file_extension": ".py",
   "mimetype": "text/x-python",
   "name": "python",
   "nbconvert_exporter": "python",
   "pygments_lexer": "ipython3",
   "version": "3.8.5"
  },
  "orig_nbformat": 4
 },
 "nbformat": 4,
 "nbformat_minor": 2
}
