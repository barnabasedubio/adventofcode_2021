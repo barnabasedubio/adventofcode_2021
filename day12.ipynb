{
 "cells": [
  {
   "cell_type": "code",
   "execution_count": 14,
   "metadata": {},
   "outputs": [],
   "source": [
    "from aocd.models import Puzzle\n",
    "from collections import defaultdict\n",
    "from pprint import pprint"
   ]
  },
  {
   "cell_type": "code",
   "execution_count": 2,
   "metadata": {},
   "outputs": [],
   "source": [
    "puzzle_input = Puzzle(2021, 12).input_data.split(\"\\n\")\n",
    "small_test_input = [\n",
    "\t\"start-A\",\n",
    "\t\"start-b\",\n",
    "\t\"A-c\",\n",
    "\t\"A-b\",\n",
    "\t\"b-d\",\n",
    "\t\"A-end\",\n",
    "\t\"b-end\"\n",
    "]\n",
    "medium_test_input = [\n",
    "\t\"dc-end\",\n",
    "\t\"HN-start\",\n",
    "\t\"start-kj\",\n",
    "\t\"dc-start\",\n",
    "\t\"dc-HN\",\n",
    "\t\"LN-dc\",\n",
    "\t\"HN-end\",\n",
    "\t\"kj-sa\",\n",
    "\t\"kj-HN\",\n",
    "\t\"kj-dc\",\n",
    "]\n",
    "large_test_input = [\n",
    "\t\"fs-end\",\n",
    "\t\"he-DX\",\n",
    "\t\"fs-he\",\n",
    "\t\"start-DX\",\n",
    "\t\"pj-DX\",\n",
    "\t\"end-zg\",\n",
    "\t\"zg-sl\",\n",
    "\t\"zg-pj\",\n",
    "\t\"pj-he\",\n",
    "\t\"RW-he\",\n",
    "\t\"fs-DX\",\n",
    "\t\"pj-RW\",\n",
    "\t\"zg-RW\",\n",
    "\t\"start-pj\",\n",
    "\t\"he-WI\",\n",
    "\t\"zg-he\",\n",
    "\t\"pj-fs\",\n",
    "\t\"start-RW\",\n",
    "]"
   ]
  },
  {
   "cell_type": "code",
   "execution_count": 6,
   "metadata": {},
   "outputs": [],
   "source": [
    "def generate_connection_dictionary(connections):\n",
    "\t# use of defaultdict saves us from having to instantiate an empty list (of check if a list already exists)\n",
    "\tconnection_dictionary = defaultdict(list)\n",
    "\tfor connection in connections:\n",
    "\t\tconnection_pair = connection.strip().split(\"-\")\n",
    "\t\tfor start,end in zip(connection_pair, reversed(connection_pair)):\n",
    "\t\t\tif end != \"start\":\n",
    "\t\t\t\tconnection_dictionary[start].append(end)\n",
    "\t\n",
    "\tdel(connection_dictionary[\"end\"])\n",
    "\treturn connection_dictionary"
   ]
  },
  {
   "cell_type": "code",
   "execution_count": 12,
   "metadata": {},
   "outputs": [
    {
     "name": "stdout",
     "output_type": "stream",
     "text": [
      "defaultdict(<class 'list'>,\n",
      "            {'A': ['c', 'b', 'end'],\n",
      "             'b': ['A', 'd', 'end'],\n",
      "             'c': ['A'],\n",
      "             'd': ['b'],\n",
      "             'start': ['A', 'b']})\n"
     ]
    }
   ],
   "source": [
    "# use DFS to find all valid paths from start to end\n",
    "def find_paths(input_dictionary):\n",
    "\t"
   ]
  },
  {
   "cell_type": "code",
   "execution_count": null,
   "metadata": {},
   "outputs": [],
   "source": []
  }
 ],
 "metadata": {
  "interpreter": {
   "hash": "1baa965d5efe3ac65b79dfc60c0d706280b1da80fedb7760faf2759126c4f253"
  },
  "kernelspec": {
   "display_name": "Python 3.8.5 64-bit",
   "language": "python",
   "name": "python3"
  },
  "language_info": {
   "codemirror_mode": {
    "name": "ipython",
    "version": 3
   },
   "file_extension": ".py",
   "mimetype": "text/x-python",
   "name": "python",
   "nbconvert_exporter": "python",
   "pygments_lexer": "ipython3",
   "version": "3.8.5"
  },
  "orig_nbformat": 4
 },
 "nbformat": 4,
 "nbformat_minor": 2
}
