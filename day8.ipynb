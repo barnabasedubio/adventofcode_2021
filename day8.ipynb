{
 "cells": [
  {
   "cell_type": "code",
   "execution_count": 4,
   "metadata": {},
   "outputs": [],
   "source": [
    "from aocd.models import Puzzle\n",
    "from pprint import pprint"
   ]
  },
  {
   "cell_type": "code",
   "execution_count": 44,
   "metadata": {},
   "outputs": [],
   "source": [
    "puzzle_input = Puzzle(2021, 8).input_data.split(\"\\n\")\n",
    "\n",
    "test_input = [\n",
    "\t\t\t\"be cfbegad cbdgef fgaecd cgeb fdcge agebfd fecdb fabcd edb | fdgacbe cefdb cefbgd gcbe\", \n",
    "\t\t\t\"edbfga begcd cbg gc gcadebf fbgde acbgfd abcde gfcbed gfec | fcgedb cgb dgebacf gc\", \n",
    "\t\t\t\"fgaebd cg bdaec gdafb agbcfd gdcbef bgcad gfac gcb cdgabef | cg cg fdcagb cbg\", \n",
    "\t\t\t\"fbegcd cbd adcefb dageb afcb bc aefdc ecdab fgdeca fcdbega | efabcd cedba gadfec cb\",\n",
    "\t\t\t\"aecbfdg fbg gf bafeg dbefa fcge gcbea fcaegb dgceab fcbdga | gecf egdcabf bgf bfgea\", \n",
    "\t\t\t\"fgeab ca afcebg bdacfeg cfaedg gcfdb baec bfadeg bafgc acf | gebdcfa ecba ca fadegcb\", \n",
    "\t\t\t\"dbcfg fgd bdegcaf fgec aegbdf ecdfab fbedc dacgb gdcebf gf | cefg dcbef fcge gbcadfe\", \n",
    "\t\t\t\"bdfegc cbegaf gecbf dfcage bdacg ed bedf ced adcbefg gebcd | ed bcgafe cdgba cbgef\", \n",
    "\t\t\t\"egadfb cdbfeg cegd fecab cgb gbdefca cg fgcdab egfdb bfceg | gbdfcae bgc cg cgb\", \n",
    "\t\t\t\"gcafb gcf dcaebfg ecagb gf abcdeg gaef cafbge fdbac fegbdc | fgae cfgab fg bagce\"]"
   ]
  },
  {
   "cell_type": "code",
   "execution_count": 45,
   "metadata": {},
   "outputs": [],
   "source": [
    "def part1(input_list):\n",
    "\tcounter = 0\n",
    "\tfor entry in input_list:\n",
    "\t\toutput_list = entry.split(\" | \")[1].split(\" \")\n",
    "\t\trelevant_digits = [output for output in output_list if len(output) in (2, 4, 3, 7)]\n",
    "\t\tcounter += len(relevant_digits)\n",
    "\t\n",
    "\tprint(counter)\n"
   ]
  },
  {
   "cell_type": "code",
   "execution_count": 46,
   "metadata": {},
   "outputs": [
    {
     "name": "stdout",
     "output_type": "stream",
     "text": [
      "272\n"
     ]
    }
   ],
   "source": [
    "part1(puzzle_input)"
   ]
  },
  {
   "cell_type": "code",
   "execution_count": 47,
   "metadata": {},
   "outputs": [],
   "source": [
    "def get_unique_numbers(entry):\n",
    "\tall_codes = entry.split(\" | \")[0].split(\" \") + entry.split(\" | \")[1].split(\" \")\n",
    "\tone = [item for item in all_codes if len(item) == 2][0]\n",
    "\tfour = [item for item in all_codes if len(item) == 4][0]\n",
    "\tseven = [item for item in all_codes if len(item) == 3][0]\n",
    "\teight = [item for item in all_codes if len(item) == 7][0]\n",
    "\n",
    "\treturn one, four, seven, eight"
   ]
  },
  {
   "cell_type": "code",
   "execution_count": 77,
   "metadata": {},
   "outputs": [],
   "source": [
    "def decode_number(item, one, four, seven, eight):\n",
    "\tif len(item) == 6:\n",
    "\t\t# can either be 9, 6,  or 0\n",
    "\t\tif len(intersection(list(four), list(item))) == len(list(four)):\n",
    "\t\t\treturn \"9\"\n",
    "\t\telif len(intersection(list(one), list(item))) != len(list(one)):\n",
    "\t\t\treturn \"6\"\n",
    "\t\telse:\n",
    "\t\t\treturn \"0\"\n",
    "\n",
    "\telif len(item) == 5:\n",
    "\t\t# can either be 2, 3 or 5:\n",
    "\t\tif len(intersection(list(one), list(item))) == len(list(one)):\n",
    "\t\t\treturn \"3\"\n",
    "\t\telif len(intersection(list(four), list(item))) == 3:\n",
    "\t\t\treturn \"5\"\n",
    "\t\telse:\n",
    "\t\t\treturn \"2\""
   ]
  },
  {
   "cell_type": "code",
   "execution_count": 78,
   "metadata": {},
   "outputs": [],
   "source": [
    "def intersection(list1, list2):\n",
    "\treturn [item for item in list1 if item in list2]"
   ]
  },
  {
   "cell_type": "code",
   "execution_count": 81,
   "metadata": {},
   "outputs": [],
   "source": [
    "def part2(input_list):\n",
    "\ttotal = 0\n",
    "\tfor entry in input_list:\n",
    "\t\tone, four, seven, eight = get_unique_numbers(entry)\n",
    "\t\t# print(one, four, seven, eight)\n",
    "\t\toutput_list = entry.split(\" | \")[1].split(\" \")\n",
    "\t\tnumber_string = \"\"\n",
    "\t\tfor item in output_list:\n",
    "\t\t\t# print(f\"Item: {item}\")\n",
    "\t\t\tif sorted(list(item)) == sorted(list(one)):\n",
    "\t\t\t\tnumber_string += \"1\"\n",
    "\t\t\telif sorted(list(item)) == sorted(list(four)):\n",
    "\t\t\t\tnumber_string += \"4\"\n",
    "\t\t\telif sorted(list(item)) == sorted(list(seven)):\n",
    "\t\t\t\tnumber_string += \"7\"\n",
    "\t\t\telif sorted(list(item)) == sorted(list(eight)):\n",
    "\t\t\t\tnumber_string += \"8\"\n",
    "\t\t\telse:\n",
    "\t\t\t\t# print(item)\n",
    "\t\t\t\tnumber_string += decode_number(item, one, four, seven, eight)\n",
    "\t\t\t# print(number_string)\n",
    "\t\ttotal += int(number_string)\n",
    "\tprint(total)"
   ]
  },
  {
   "cell_type": "code",
   "execution_count": 84,
   "metadata": {},
   "outputs": [
    {
     "name": "stdout",
     "output_type": "stream",
     "text": [
      "1007675\n"
     ]
    }
   ],
   "source": [
    "part2(puzzle_input)"
   ]
  },
  {
   "cell_type": "code",
   "execution_count": 39,
   "metadata": {},
   "outputs": [
    {
     "data": {
      "text/plain": [
       "True"
      ]
     },
     "execution_count": 39,
     "metadata": {},
     "output_type": "execute_result"
    }
   ],
   "source": []
  },
  {
   "cell_type": "code",
   "execution_count": null,
   "metadata": {},
   "outputs": [],
   "source": []
  }
 ],
 "metadata": {
  "interpreter": {
   "hash": "1baa965d5efe3ac65b79dfc60c0d706280b1da80fedb7760faf2759126c4f253"
  },
  "kernelspec": {
   "display_name": "Python 3.8.5 64-bit",
   "language": "python",
   "name": "python3"
  },
  "language_info": {
   "codemirror_mode": {
    "name": "ipython",
    "version": 3
   },
   "file_extension": ".py",
   "mimetype": "text/x-python",
   "name": "python",
   "nbconvert_exporter": "python",
   "pygments_lexer": "ipython3",
   "version": "3.8.5"
  },
  "orig_nbformat": 4
 },
 "nbformat": 4,
 "nbformat_minor": 2
}
