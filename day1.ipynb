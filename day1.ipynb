{
 "cells": [
  {
   "cell_type": "code",
   "execution_count": 3,
   "metadata": {},
   "outputs": [],
   "source": [
    "from aocd.models import Puzzle"
   ]
  },
  {
   "cell_type": "code",
   "execution_count": 9,
   "metadata": {},
   "outputs": [],
   "source": [
    "puzzle_input = Puzzle(2021, 1).input_data.split(\"\\n\")\n",
    "puzzle_input = [int(x) for x in puzzle_input]"
   ]
  },
  {
   "cell_type": "code",
   "execution_count": 32,
   "metadata": {},
   "outputs": [],
   "source": [
    "def part1(input_list):\n",
    "\tcurrent = input_list[0]\n",
    "\tcounter = 0\n",
    "\tfor entry in input_list[1:]:\n",
    "\t\tif entry > current:\n",
    "\t\t\tcounter += 1\n",
    "\t\tcurrent = entry\n",
    "\n",
    "\treturn counter\n",
    "\n",
    "print(part1(puzzle_input))"
   ]
  },
  {
   "cell_type": "code",
   "execution_count": 34,
   "metadata": {},
   "outputs": [
    {
     "name": "stdout",
     "output_type": "stream",
     "text": [
      "1805\n"
     ]
    }
   ],
   "source": [
    "def part2(input_list):\n",
    "\tcounter = 0\n",
    "\tfor ix in range(1, len(input_list)-2):\n",
    "\t\tprevious = input_list[ix-1] +  input_list[ix] + input_list[ix+1]\n",
    "\t\tcurrent =  input_list[ix] + input_list[ix+1] + input_list[ix+2]\n",
    "\n",
    "\t\tif current > previous:\n",
    "\t\t\tcounter += 1\n",
    "\t\tprevious = current\n",
    "\n",
    "\treturn counter\n",
    "\n",
    "print(part2(puzzle_input))\n"
   ]
  }
 ],
 "metadata": {
  "interpreter": {
   "hash": "1baa965d5efe3ac65b79dfc60c0d706280b1da80fedb7760faf2759126c4f253"
  },
  "kernelspec": {
   "display_name": "Python 3.8.5 64-bit",
   "language": "python",
   "name": "python3"
  },
  "language_info": {
   "codemirror_mode": {
    "name": "ipython",
    "version": 3
   },
   "file_extension": ".py",
   "mimetype": "text/x-python",
   "name": "python",
   "nbconvert_exporter": "python",
   "pygments_lexer": "ipython3",
   "version": "3.8.5"
  },
  "orig_nbformat": 4
 },
 "nbformat": 4,
 "nbformat_minor": 2
}
