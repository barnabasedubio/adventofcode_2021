{
 "cells": [
  {
   "cell_type": "code",
   "execution_count": 28,
   "metadata": {},
   "outputs": [],
   "source": [
    "from aocd.models import Puzzle\n",
    "from pprint import pprint\n",
    "from functools import reduce"
   ]
  },
  {
   "cell_type": "code",
   "execution_count": 2,
   "metadata": {},
   "outputs": [],
   "source": [
    "puzzle_input = Puzzle(2021, 9).input_data.split(\"\\n\")\n",
    "puzzle_matrix = [[int(x) for x in line] for line in puzzle_input]\n",
    "test_matrix = [\n",
    "\t[2,1,9,9,9,4,3,2,1,0],\n",
    "\t[3,9,8,7,8,9,4,9,2,1],\n",
    "\t[9,8,5,6,7,8,9,8,9,2],\n",
    "\t[8,7,6,7,8,9,6,7,8,9],\n",
    "\t[9,8,9,9,9,6,5,6,7,8]\n",
    "]"
   ]
  },
  {
   "cell_type": "code",
   "execution_count": 3,
   "metadata": {},
   "outputs": [],
   "source": [
    "def get_neighbors(input_matrix, row, col, coords):\n",
    "\t# corners\n",
    "\tif row == 0 and col == 0:\n",
    "\t\treturn [input_matrix[row][col+1], input_matrix[row+1][col]] if not coords else [(row,col+1) ,(row+1,col)]  # east, south\n",
    "\telif row == 0 and col == len(input_matrix[0])-1:\n",
    "\t\treturn [input_matrix[row+1][col], input_matrix[row][col-1]] if not coords else [(row+1,col) ,(row,col-1)]  # south, west\n",
    "\telif row == len(input_matrix)-1 and col == 0:\n",
    "\t\treturn [input_matrix[row-1][col], input_matrix[row][col+1]] if not coords else [(row-1,col) ,(row,col+1)]  # north, east\n",
    "\telif row == len(input_matrix)-1 and col == len(input_matrix[0])-1:\n",
    "\t\treturn [input_matrix[row-1][col], input_matrix[row][col-1]] if not coords else [(row-1,col) ,(row,col-1)]  # north, west\n",
    "\n",
    "\t# edges\n",
    "\tif row == 0 and col not in (0, len(input_matrix[0])-1):\n",
    "\t\treturn [input_matrix[row][col+1], input_matrix[row+1][col], input_matrix[row][col-1]] if not coords else [(row,col+1), (row+1,col), (row,col-1)]  # east, south, west\n",
    "\telif row == len(input_matrix)-1 and col not in (0, len(input_matrix[0])-1):\n",
    "\t\treturn [input_matrix[row-1][col], input_matrix[row][col+1], input_matrix[row][col-1]] if not coords else [(row-1,col), (row,col+1), (row,col-1)] # north, east, west\n",
    "\telif col == 0 and row not in (0, len(input_matrix)-1):\n",
    "\t\treturn [input_matrix[row-1][col], input_matrix[row][col+1], input_matrix[row+1][col]] if not coords else [(row-1,col), (row,col+1), (row+1,col)] # north, east, south\n",
    "\telif col == len(input_matrix[0])-1 and row not in (0, len(input_matrix)-1):\n",
    "\t\treturn [input_matrix[row-1][col], input_matrix[row+1][col], input_matrix[row][col-1]] if not coords else [(row-1,col), (row+1,col), (row,col-1)] # north, south, west\n",
    "\n",
    "\t# inside\n",
    "\telif row not in (0, len(input_matrix)-1) and col not in (0, len(input_matrix[0])-1):\n",
    "\t\treturn [\n",
    "\t\t\tinput_matrix[row-1][col], # north\n",
    "\t\t\tinput_matrix[row][col+1], # east\n",
    "\t\t\tinput_matrix[row+1][col], # south\n",
    "\t\t\tinput_matrix[row][col-1], # west\n",
    "\t\t] if not coords else [\n",
    "\t\t\t(row-1,col), (row,col+1), (row+1,col), (row,col-1)\n",
    "\t\t]\n"
   ]
  },
  {
   "cell_type": "code",
   "execution_count": 4,
   "metadata": {},
   "outputs": [],
   "source": [
    "def get_low_points(input_matrix, coords):\n",
    "\tlow_points = []\n",
    "\tlow_points_coords = []\n",
    "\tfor ix, row in enumerate(input_matrix):\n",
    "\t\tfor iy, item in enumerate(row):\n",
    "\t\t\tneighbors = get_neighbors(input_matrix, ix, iy, False)\n",
    "\t\t\tif item < min(neighbors):\n",
    "\t\t\t\tlow_points.append(item)\n",
    "\t\t\t\tlow_points_coords.append((ix, iy))\n",
    "\n",
    "\treturn low_points_coords if coords else low_points"
   ]
  },
  {
   "cell_type": "code",
   "execution_count": 5,
   "metadata": {},
   "outputs": [
    {
     "name": "stdout",
     "output_type": "stream",
     "text": [
      "508\n"
     ]
    }
   ],
   "source": [
    "# part 1\n",
    "print(sum([x+1 for x in get_low_points(puzzle_matrix, False)]))"
   ]
  },
  {
   "cell_type": "code",
   "execution_count": 31,
   "metadata": {},
   "outputs": [],
   "source": [
    "def part2(input_matrix):\n",
    "\tlist_of_basins = []\n",
    "\tfor low_point_coord in get_low_points(input_matrix, True):\n",
    "\t\tlocal_basin = []\n",
    "\t\tlocal_basin.append(low_point_coord)\n",
    "\t\t# begin BFS\n",
    "\t\tqueue = [low_point_coord]\n",
    "\t\twhile queue:\n",
    "\t\t\tcurrent = queue.pop(0)\n",
    "\t\t\tvalid_neighbors = [coord for coord in get_neighbors(input_matrix, current[0], current[1], True) if input_matrix[coord[0]][coord[1]] != 9 and coord not in local_basin]\n",
    "\t\t\tfor neighbor in valid_neighbors:\n",
    "\t\t\t\t\tlocal_basin.append(neighbor)\n",
    "\t\t\tqueue += valid_neighbors\n",
    "\n",
    "\t\tlist_of_basins.append(local_basin)\n",
    "\n",
    "\tlist_of_basins.sort(key=len, reverse=True)\n",
    "\tresult = reduce(lambda x, y: x*y, [len(x) for x in list_of_basins[:3]])\n",
    "\tprint(result)\n",
    "\n",
    "\t"
   ]
  },
  {
   "cell_type": "code",
   "execution_count": 32,
   "metadata": {},
   "outputs": [
    {
     "name": "stdout",
     "output_type": "stream",
     "text": [
      "1564640\n"
     ]
    }
   ],
   "source": [
    "part2(puzzle_matrix)"
   ]
  }
 ],
 "metadata": {
  "interpreter": {
   "hash": "1baa965d5efe3ac65b79dfc60c0d706280b1da80fedb7760faf2759126c4f253"
  },
  "kernelspec": {
   "display_name": "Python 3.8.5 64-bit",
   "language": "python",
   "name": "python3"
  },
  "language_info": {
   "codemirror_mode": {
    "name": "ipython",
    "version": 3
   },
   "file_extension": ".py",
   "mimetype": "text/x-python",
   "name": "python",
   "nbconvert_exporter": "python",
   "pygments_lexer": "ipython3",
   "version": "3.8.5"
  },
  "orig_nbformat": 4
 },
 "nbformat": 4,
 "nbformat_minor": 2
}
