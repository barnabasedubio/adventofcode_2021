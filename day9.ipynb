{
 "cells": [
  {
   "cell_type": "code",
   "execution_count": 1,
   "metadata": {},
   "outputs": [],
   "source": [
    "from aocd.models import Puzzle\n",
    "from pprint import pprint"
   ]
  },
  {
   "cell_type": "code",
   "execution_count": 16,
   "metadata": {},
   "outputs": [],
   "source": [
    "puzzle_input = Puzzle(2021, 9).input_data.split(\"\\n\")\n",
    "puzzle_matrix = [[int(x) for x in line] for line in puzzle_input]\n",
    "test_matrix = [\n",
    "\t[2,1,9,9,9,4,3,2,1,0],\n",
    "\t[3,9,8,7,8,9,4,9,2,1],\n",
    "\t[9,8,5,6,7,8,9,8,9,2],\n",
    "\t[8,7,6,7,8,9,6,7,8,9],\n",
    "\t[9,8,9,9,9,6,5,6,7,8]\n",
    "]"
   ]
  },
  {
   "cell_type": "code",
   "execution_count": 34,
   "metadata": {},
   "outputs": [],
   "source": [
    "def get_neighbors(input_matrix, row, col):\n",
    "\t# corners\n",
    "\tif row == 0 and col == 0:\n",
    "\t\treturn [input_matrix[row][col+1], input_matrix[row+1][col]]  # east, south\n",
    "\telif row == 0 and col == len(input_matrix[0])-1:\n",
    "\t\treturn [input_matrix[row+1][col], input_matrix[row][col-1]]  # south, west\n",
    "\telif row == len(input_matrix)-1 and col == 0:\n",
    "\t\treturn [input_matrix[row-1][col], input_matrix[row][col+1]]  # north, east\n",
    "\telif row == len(input_matrix)-1 and col == len(input_matrix[0])-1:\n",
    "\t\treturn [input_matrix[row-1][col], input_matrix[row][col-1]]  # north, west\n",
    "\n",
    "\t# edges\n",
    "\tif row == 0 and col not in (0, len(input_matrix[0])-1):\n",
    "\t\treturn [input_matrix[row][col+1], input_matrix[row+1][col], input_matrix[row][col-1]]  # east, south, west\n",
    "\telif row == len(input_matrix)-1 and col not in (0, len(input_matrix[0])-1):\n",
    "\t\treturn [input_matrix[row-1][col], input_matrix[row][col+1], input_matrix[row][col-1]]  # north, east, west\n",
    "\telif col == 0 and row not in (0, len(input_matrix)-1):\n",
    "\t\treturn [input_matrix[row-1][col], input_matrix[row][col+1], input_matrix[row+1][col]]  # north, east, south\n",
    "\telif col == len(input_matrix[0])-1 and row not in (0, len(input_matrix)-1):\n",
    "\t\treturn [input_matrix[row-1][col], input_matrix[row+1][col], input_matrix[row][col-1]]  # north, south, west\n",
    "\n",
    "\t# inside\n",
    "\telif row not in (0, len(input_matrix)-1) and col not in (0, len(input_matrix[0])-1):\n",
    "\t\treturn [\n",
    "\t\t\tinput_matrix[row-1][col], # north\n",
    "\t\t\tinput_matrix[row][col+1], # east\n",
    "\t\t\tinput_matrix[row+1][col], # south\n",
    "\t\t\tinput_matrix[row][col-1], # west\n",
    "\t\t]\n"
   ]
  },
  {
   "cell_type": "code",
   "execution_count": 35,
   "metadata": {},
   "outputs": [],
   "source": [
    "def part1(input_matrix):\n",
    "\tlow_points = []\n",
    "\tfor ix, row in enumerate(input_matrix):\n",
    "\t\tfor iy, item in enumerate(row):\n",
    "\t\t\tneighbors = get_neighbors(input_matrix, ix, iy)\n",
    "\t\t\tif item < min(neighbors):\n",
    "\t\t\t\tlow_points.append(item)\n",
    "\n",
    "\tprint(sum([x+1 for x in low_points]))\n"
   ]
  },
  {
   "cell_type": "code",
   "execution_count": 42,
   "metadata": {},
   "outputs": [
    {
     "name": "stdout",
     "output_type": "stream",
     "text": [
      "508\n"
     ]
    }
   ],
   "source": [
    "part1(puzzle_matrix)"
   ]
  },
  {
   "cell_type": "code",
   "execution_count": null,
   "metadata": {},
   "outputs": [],
   "source": [
    "def part2(input_matrix):\n",
    "\tpass"
   ]
  }
 ],
 "metadata": {
  "interpreter": {
   "hash": "1baa965d5efe3ac65b79dfc60c0d706280b1da80fedb7760faf2759126c4f253"
  },
  "kernelspec": {
   "display_name": "Python 3.8.5 64-bit",
   "language": "python",
   "name": "python3"
  },
  "language_info": {
   "codemirror_mode": {
    "name": "ipython",
    "version": 3
   },
   "file_extension": ".py",
   "mimetype": "text/x-python",
   "name": "python",
   "nbconvert_exporter": "python",
   "pygments_lexer": "ipython3",
   "version": "3.8.5"
  },
  "orig_nbformat": 4
 },
 "nbformat": 4,
 "nbformat_minor": 2
}
