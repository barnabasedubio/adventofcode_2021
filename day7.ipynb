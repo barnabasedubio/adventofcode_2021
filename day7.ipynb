{
 "cells": [
  {
   "cell_type": "code",
   "execution_count": 1,
   "metadata": {},
   "outputs": [],
   "source": [
    "from aocd.models import Puzzle"
   ]
  },
  {
   "cell_type": "code",
   "execution_count": 3,
   "metadata": {},
   "outputs": [],
   "source": [
    "puzzle_input = Puzzle(2021, 7).input_data.split(\",\")\n",
    "puzzle_input = [int(x) for x in puzzle_input]\n",
    "test_input = [16, 1, 2, 0, 4, 2, 7, 1, 2, 14]"
   ]
  },
  {
   "cell_type": "code",
   "execution_count": 65,
   "metadata": {},
   "outputs": [],
   "source": [
    "def calculate_fuel(start, end, part):\n",
    "    return sum([x for x in range(abs(start-end)+1)]) if part == \"part2\" else abs(start-end)"
   ]
  },
  {
   "cell_type": "code",
   "execution_count": 68,
   "metadata": {},
   "outputs": [],
   "source": [
    "def get_min_fuel_cost(input_list, part):\n",
    "\n",
    "    reference_list = [x for x in range(max(input_list)+1)]\n",
    "    distances_for_each_crab = [0 for _ in range(len(reference_list))]\n",
    "\n",
    "    for item in input_list:\n",
    "        for ix, distance in enumerate(reference_list):\n",
    "            distances_for_each_crab[ix] += calculate_fuel(item, distance, part)\n",
    "\n",
    "    print(min(distances_for_each_crab))"
   ]
  },
  {
   "cell_type": "code",
   "execution_count": 69,
   "metadata": {},
   "outputs": [
    {
     "name": "stdout",
     "output_type": "stream",
     "text": [
      "339321\n"
     ]
    }
   ],
   "source": [
    "# part 1\n",
    "get_min_fuel_cost(puzzle_input, \"part1\")"
   ]
  },
  {
   "cell_type": "code",
   "execution_count": 70,
   "metadata": {},
   "outputs": [
    {
     "name": "stdout",
     "output_type": "stream",
     "text": [
      "95476244\n"
     ]
    }
   ],
   "source": [
    "# part 2\n",
    "get_min_fuel_cost(puzzle_input, \"part2\")"
   ]
  }
 ],
 "metadata": {
  "interpreter": {
   "hash": "57baa5815c940fdaff4d14510622de9616cae602444507ba5d0b6727c008cbd6"
  },
  "kernelspec": {
   "display_name": "Python 3.7.8 64-bit",
   "language": "python",
   "name": "python3"
  },
  "language_info": {
   "codemirror_mode": {
    "name": "ipython",
    "version": 3
   },
   "file_extension": ".py",
   "mimetype": "text/x-python",
   "name": "python",
   "nbconvert_exporter": "python",
   "pygments_lexer": "ipython3",
   "version": "3.7.8"
  },
  "orig_nbformat": 4
 },
 "nbformat": 4,
 "nbformat_minor": 2
}
