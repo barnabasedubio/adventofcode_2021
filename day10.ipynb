{
 "cells": [
  {
   "cell_type": "code",
   "execution_count": 1,
   "metadata": {},
   "outputs": [],
   "source": [
    "from aocd.models import Puzzle\n",
    "from pprint import pprint"
   ]
  },
  {
   "cell_type": "code",
   "execution_count": 2,
   "metadata": {},
   "outputs": [],
   "source": [
    "puzzle_input = Puzzle(2021, 10).input_data.split(\"\\n\")\n",
    "test_input = [\n",
    "\t\"[({(<(())[]>[[{[]{<()<>>\",\n",
    "\t\"[(()[<>])]({[<{<<[]>>(\",\n",
    "\t\"{([(<{}[<>[]}>{[]{[(<()>\",\n",
    "\t\"(((({<>}<{<{<>}{[]{[]{}\",\n",
    "\t\"[[<[([]))<([[{}[[()]]]\",\n",
    "\t\"[{[{({}]{}}([{[{{{}}([]\",\n",
    "\t\"{<[[]]>}<{[{[{[]{()[[[]\",\n",
    "\t\"[<(<(<(<{}))><([]([]()\",\n",
    "\t\"<{([([[(<>()){}]>(<<{{\",\n",
    "\t\"<{([{{}}[<[[[<>{}]]]>[]]\"\n",
    "]\n",
    "\n",
    "openers = [\"(\", \"[\", \"{\", \"<\"]\n",
    "closers = [\")\", \"]\", \"}\", \">\"]"
   ]
  },
  {
   "cell_type": "code",
   "execution_count": 3,
   "metadata": {},
   "outputs": [],
   "source": [
    "def get_opening_symbol(symbol):\n",
    "\tif symbol == \")\": return \"(\"\n",
    "\tif symbol == \"]\": return \"[\"\n",
    "\tif symbol == \"}\": return \"{\"\n",
    "\tif symbol == \">\": return \"<\"\n",
    "\n",
    "def get_closing_symbol(symbol):\n",
    "\tif symbol == \"(\": return \")\"\n",
    "\tif symbol == \"[\": return \"]\"\n",
    "\tif symbol == \"{\": return \"}\"\n",
    "\tif symbol == \"<\": return \">\"\t"
   ]
  },
  {
   "cell_type": "code",
   "execution_count": 4,
   "metadata": {},
   "outputs": [],
   "source": [
    "def part1(input_list):\n",
    "\terrors = {x:0 for x in closers}\n",
    "\tfor entry in input_list:\n",
    "\t\tsymbol_stack = []\n",
    "\t\tfor symbol in entry:\n",
    "\t\t\tif symbol in openers:\n",
    "\t\t\t\tsymbol_stack.append(symbol)\n",
    "\t\t\telif symbol in closers:\n",
    "\t\t\t\t# check to see if opening symbol is the top entry of the stack\n",
    "\t\t\t\tif symbol_stack[-1] == get_opening_symbol(symbol):\n",
    "\t\t\t\t\tsymbol_stack.pop()\n",
    "\t\t\t\telse:\n",
    "\t\t\t\t\terrors[symbol] += 1\n",
    "\t\t\t\t\tbreak  # since we only need the first illegal character\n",
    "\t\t\telse:\n",
    "\t\t\t\tprint(f\"Cannot assign symbol: {symbol}\")\n",
    "\t\t\t\treturn\n",
    "\t\n",
    "\tprint(3*errors[\")\"] + 57*errors[\"]\"] + 1197*errors[\"}\"] + 25137*errors[\">\"])\n",
    "\n",
    "\t"
   ]
  },
  {
   "cell_type": "code",
   "execution_count": 5,
   "metadata": {},
   "outputs": [
    {
     "name": "stdout",
     "output_type": "stream",
     "text": [
      "392097\n"
     ]
    }
   ],
   "source": [
    "part1(puzzle_input)"
   ]
  },
  {
   "cell_type": "code",
   "execution_count": 46,
   "metadata": {},
   "outputs": [],
   "source": [
    "def is_line_corrupt(line):\n",
    "\tsymbol_stack = []\n",
    "\tfor symbol in line:\n",
    "\t\tif symbol in openers:\n",
    "\t\t\tsymbol_stack.append(symbol)\n",
    "\t\telif symbol in closers:\n",
    "\t\t\tif symbol_stack[-1] == get_opening_symbol(symbol):\n",
    "\t\t\t\tsymbol_stack.pop()\n",
    "\t\t\telse:\n",
    "\t\t\t\treturn True\n",
    "\t\telse:\n",
    "\t\t\tprint(f\"Cannot assign symbol: {symbol}\")\n",
    "\t\t\treturn\n",
    "\treturn False"
   ]
  },
  {
   "cell_type": "code",
   "execution_count": 47,
   "metadata": {},
   "outputs": [],
   "source": [
    "def get_score(sequence_list):\n",
    "\ttotal = 0\n",
    "\tfor sequence in sequence_list:\n",
    "\t\ttotal *= 5\n",
    "\t\tif sequence == \")\":\n",
    "\t\t\ttotal += 1\n",
    "\t\telif sequence == \"]\":\n",
    "\t\t\ttotal += 2\n",
    "\t\telif sequence == \"}\":\n",
    "\t\t\ttotal += 3\n",
    "\t\telif sequence == \">\":\n",
    "\t\t\ttotal += 4\n",
    "\treturn total"
   ]
  },
  {
   "cell_type": "code",
   "execution_count": 48,
   "metadata": {},
   "outputs": [],
   "source": [
    "def part2(input_list):\n",
    "\tcompletion_sequences = []\n",
    "\tfor entry in [x for x in input_list if not is_line_corrupt(x)]:\n",
    "\t\tsymbol_stack = []\n",
    "\t\tcompletion_sequence = \"\"\n",
    "\t\tfor symbol in entry:\n",
    "\t\t\tif symbol in openers:\n",
    "\t\t\t\tsymbol_stack.append(symbol)\n",
    "\t\t\telif symbol in closers:\n",
    "\t\t\t\tif symbol_stack[-1] == get_opening_symbol(symbol):\n",
    "\t\t\t\t\tsymbol_stack.pop()\n",
    "\t\t\telse:\n",
    "\t\t\t\tprint(f\"Cannot assign symbol: {symbol}\")\n",
    "\t\t\t\treturn\n",
    "\t\t# find out required symbols to complete the stack\n",
    "\t\twhile symbol_stack:\n",
    "\t\t\tcompletion_sequence += get_closing_symbol(symbol_stack.pop())\n",
    "\t\tcompletion_sequences.append(completion_sequence)\n",
    "\n",
    "\tscores = sorted([get_score(sequence) for sequence in completion_sequences])\n",
    "\tmiddle_index = int(int(len(scores)-1) / 2)\n",
    "\tprint(scores[middle_index])"
   ]
  },
  {
   "cell_type": "code",
   "execution_count": 50,
   "metadata": {},
   "outputs": [
    {
     "name": "stdout",
     "output_type": "stream",
     "text": [
      "4263222782\n"
     ]
    }
   ],
   "source": [
    "part2(puzzle_input)"
   ]
  }
 ],
 "metadata": {
  "interpreter": {
   "hash": "1baa965d5efe3ac65b79dfc60c0d706280b1da80fedb7760faf2759126c4f253"
  },
  "kernelspec": {
   "display_name": "Python 3.8.5 64-bit",
   "language": "python",
   "name": "python3"
  },
  "language_info": {
   "codemirror_mode": {
    "name": "ipython",
    "version": 3
   },
   "file_extension": ".py",
   "mimetype": "text/x-python",
   "name": "python",
   "nbconvert_exporter": "python",
   "pygments_lexer": "ipython3",
   "version": "3.8.5"
  },
  "orig_nbformat": 4
 },
 "nbformat": 4,
 "nbformat_minor": 2
}
